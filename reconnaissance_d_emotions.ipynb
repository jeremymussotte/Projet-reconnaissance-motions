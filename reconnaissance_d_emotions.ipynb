{
  "cells": [
    {
      "cell_type": "markdown",
      "metadata": {
        "id": "WDD4MHaY3_GK"
      },
      "source": [
        "# Projet reconnaissance d'émotion dans un texte"
      ]
    },
    {
      "cell_type": "markdown",
      "source": [
        "L'objectif de ce projet est d'aboutir à un modèle capable de reconnaître une émotion dans un court texte, en utilisant la base de données IEMOCAP.\n",
        "\n",
        "Dans un premier temps, on entraîne un réseau de neurone basé sur un article scientifique, puis on exploite des modèles de transformers pré-entraînés."
      ],
      "metadata": {
        "id": "dTH-5WwNGF4b"
      }
    },
    {
      "cell_type": "markdown",
      "metadata": {
        "id": "7sSFP5fU3_GL"
      },
      "source": [
        "# Importations des librairies"
      ]
    },
    {
      "cell_type": "code",
      "execution_count": null,
      "metadata": {
        "id": "ukcKCsGH3_GM"
      },
      "outputs": [],
      "source": [
        "import os\n",
        "import numpy as np\n",
        "from sklearn.model_selection import StratifiedShuffleSplit\n",
        "from sklearn.model_selection import train_test_split\n",
        "from matplotlib import pyplot as plt\n",
        "import torch\n",
        "import torch.nn as nn\n",
        "import torch.optim as optim\n",
        "import torch.nn.functional as F\n",
        "from transformers import BertModel, BertTokenizer, BertForSequenceClassification, RobertaForSequenceClassification, RobertaTokenizer"
      ]
    },
    {
      "cell_type": "code",
      "execution_count": null,
      "metadata": {
        "id": "S5pqO_BG3_GN"
      },
      "outputs": [],
      "source": [
        "device = torch.device(\"cuda\" if torch.cuda.is_available() else \"cpu\")\n",
        "print(device)"
      ]
    },
    {
      "cell_type": "markdown",
      "metadata": {
        "id": "rmkREKfp3_GN"
      },
      "source": [
        "# Manipulation des données\n",
        "\n",
        "Ici on extrait une liste contenant le titre de chaque extrait ainsi que l'émotion associée"
      ]
    },
    {
      "cell_type": "code",
      "execution_count": null,
      "metadata": {
        "id": "UGp2P8Vp3_GN"
      },
      "outputs": [],
      "source": [
        "# Fonction permettant de lire le fichier texte et de le transformer en tableau\n",
        "def txt_to_table(file_path, delimiter='\\t'):\n",
        "    table = []\n",
        "    with open(file_path, 'r') as file:\n",
        "        for line in file:\n",
        "            # Supprime les espaces blancs de début et de fin et divise la ligne en fonction du délimiteur.\n",
        "            fields = line.strip().split(delimiter)\n",
        "            table.append(fields)\n",
        "    return table\n",
        "\n",
        "def extract_emotions(table):\n",
        "    tableReduce = []\n",
        "    extractedList =[]\n",
        "    lenMax = len(table)\n",
        "    i= 2\n",
        "    while i<lenMax:\n",
        "      tableReduce.append(table[i])\n",
        "      i = i+1\n",
        "    for i in range (len(tableReduce)):\n",
        "      if tableReduce[i] != [\"\"]:\n",
        "       if tableReduce[i][1].startswith(\"Ses\") and tableReduce[i][2] in [\"neu\", \"ang\", \"sad\",\"fru\",\"hap\",\"exc\"]:\n",
        "                extractedList.append((tableReduce[i][1], tableReduce[i][2]))\n",
        "    return extractedList\n",
        "\n",
        "# Fonction permettant de lire le fichier texte avec un délimiteur d'espace et de le transformer en tableau\n",
        "def extract_text(file_path):\n",
        "    table = []\n",
        "    transformedTable = []\n",
        "    with open(file_path, 'r') as file:\n",
        "        for line in file:\n",
        "            # Diviser la ligne en fonction du délimiteur d'espace\n",
        "            fields = line.strip().split()\n",
        "            table.append(fields)\n",
        "    for row in table :\n",
        "      transformedRow = [row[0], ' '.join(row[2:])]\n",
        "      transformedTable.append(transformedRow)\n",
        "    return transformedTable\n",
        "\n",
        "def sentence_label(extractedList,extractedText):\n",
        "  labeledText = []\n",
        "  for i in range (len(extractedList)):\n",
        "    j = 0\n",
        "    while((extractedText[j][0] != extractedList[i][0]) and (j < len(extractedList))):\n",
        "      j = j+1\n",
        "    labeledText.append((extractedText[j][1],extractedList[i][1]))\n",
        "  return labeledText"
      ]
    },
    {
      "cell_type": "code",
      "execution_count": null,
      "metadata": {
        "id": "l5EwN_Yn3_GO"
      },
      "outputs": [],
      "source": [
        "# Si cloné\n",
        "# Traitement général de toutes les données\n",
        "chemin_emo_part = r\"EmoEvaluation/EmoEvaluation\"\n",
        "chemin_transcription_part = r\"transcriptions/transcriptions\"\n",
        "\n",
        "data = []\n",
        "session_folders = ['Session_01', 'Session_02', 'Session_03', 'Session_04', 'Session_05']\n",
        "for session in session_folders:\n",
        "  emotions_folder = os.path.join('/IEMOCAP', session,chemin_emo_part)\n",
        "  listFileEmotions = os.listdir(emotions_folder)\n",
        "  text_folder = os.path.join('/IEMOCAP', session, chemin_transcription_part)\n",
        "  listFileText = os.listdir(text_folder)\n",
        "  for i in range(len(listFileEmotions)):\n",
        "    filePathEmotions = os.path.join(emotions_folder,listFileEmotions[i])\n",
        "    if os.path.isfile(filePathEmotions):\n",
        "      filePathText = os.path.join(text_folder,listFileText[i])\n",
        "      tableEmotions = txt_to_table(filePathEmotions)\n",
        "      extractedEmotions = extract_emotions(tableEmotions)\n",
        "      extractedText = extract_text(filePathText)\n",
        "      labeledText = sentence_label(extractedEmotions,extractedText)\n",
        "      data.extend(labeledText)\n",
        "\n",
        "print(data)\n",
        "print(len(data))"
      ]
    },
    {
      "cell_type": "code",
      "execution_count": null,
      "metadata": {
        "id": "OlVo0LSB3_GO",
        "outputId": "f4134f91-1175-4fd4-fcf9-365476026854"
      },
      "outputs": [
        {
          "name": "stdout",
          "output_type": "stream",
          "text": [
            "7380\n"
          ]
        }
      ],
      "source": [
        "# si en local\n",
        "# Traitement général de toutes les données\n",
        "\n",
        "chemin_data = r\"C:\\Users\\Fournier\\Documents\\Cours CS\\ST7 numérique au service du facteur humain\\IA reconnaissance émotion\\IEMOCAP\"\n",
        "chemin_emo_part = r\"EmoEvaluation\\EmoEvaluation\"\n",
        "chemin_transcription_part = r\"transcriptions\\transcriptions\"\n",
        "\n",
        "data = []\n",
        "session_folders = ['Session_01', 'Session_02', 'Session_03', 'Session_04', 'Session_05']\n",
        "for session in session_folders:\n",
        "  emotions_folder = os.path.join(chemin_data, session, chemin_emo_part)\n",
        "  listFileEmotions = os.listdir(emotions_folder)\n",
        "  text_folder = os.path.join(chemin_data, session, chemin_transcription_part)\n",
        "  listFileText = os.listdir(text_folder)\n",
        "  for i in range(len(listFileEmotions)):\n",
        "    filePathEmotions = os.path.join(emotions_folder,listFileEmotions[i])\n",
        "    if os.path.isfile(filePathEmotions):\n",
        "      filePathText = os.path.join(text_folder,listFileText[i])\n",
        "      tableEmotions = txt_to_table(filePathEmotions)\n",
        "      extractedEmotions = extract_emotions(tableEmotions)\n",
        "      extractedText = extract_text(filePathText)\n",
        "      labeledText = sentence_label(extractedEmotions,extractedText)\n",
        "      data.extend(labeledText)\n",
        "print(len(data))"
      ]
    },
    {
      "cell_type": "code",
      "execution_count": null,
      "metadata": {
        "id": "n0fKmpDk3_GQ",
        "outputId": "4fcbd1cb-f7d3-4102-9f38-9cbe235cb615"
      },
      "outputs": [
        {
          "name": "stdout",
          "output_type": "stream",
          "text": [
            "nombre de neutre:1708 ; nombre de angry:1103 ; nombre de happy:595 ; nombre de sad:1084 ; nombre de excited:1041 ; nombre de frustrated:1849\n"
          ]
        }
      ],
      "source": [
        "neu_data = [text for text, emotion in data if emotion == \"neu\"]\n",
        "ang_data = [text for text, emotion in data if emotion == \"ang\"]\n",
        "hap_data = [text for text, emotion in data if emotion == \"hap\"]\n",
        "sad_data = [text for text, emotion in data if emotion == \"sad\"]\n",
        "fru_data = [text for text, emotion in data if emotion == \"fru\"]\n",
        "exc_data = [text for text, emotion in data if emotion == \"exc\"]\n",
        "neu_array = np.array(neu_data)\n",
        "ang_array = np.array(ang_data)\n",
        "hap_array = np.array(hap_data)\n",
        "sad_array = np.array(sad_data)\n",
        "exc_array = np.array(exc_data)\n",
        "fru_array = np.array(fru_data)\n",
        "\n",
        "print(f\"nombre de neutre:{len(neu_array)} ; nombre de angry:{len(ang_array)} ; nombre de happy:{len(hap_array)} ; nombre de sad:{len(sad_array)} ; nombre de excited:{len(exc_array)} ; nombre de frustrated:{len(fru_array)}\")"
      ]
    },
    {
      "cell_type": "markdown",
      "metadata": {
        "id": "aLIy2maZ3_GR"
      },
      "source": [
        "# Le batch des données :\n",
        "\n",
        "Dans cette partie je vais batcher les données, les reunirs en paquets afin que les futurs réseaux s'entrainent dessus correctement et efficacement. Comme vu ci dessus, les classes sont déséquilibrées, il va falloir prendre cela en compte dans notre batch de données pour éviter un oversampling sur les classes les plus représenté lors de l'entrainement.\n",
        "\n",
        "Je décide donc de faire des batchs de 60 transcriptions, avec 10 de chaque classe (neutral, angry, happy, sad, excited, frustrated)"
      ]
    },
    {
      "cell_type": "code",
      "execution_count": null,
      "metadata": {
        "id": "H-rUhc-c3_GR"
      },
      "outputs": [],
      "source": [
        "class_indices = {\n",
        "    0: neu_array,\n",
        "    1: ang_array,\n",
        "    2: hap_array,\n",
        "    3: sad_array,\n",
        "    4: exc_array,\n",
        "    5: fru_array\n",
        "}"
      ]
    },
    {
      "cell_type": "code",
      "execution_count": null,
      "metadata": {
        "id": "nVxKGlqp3_GS"
      },
      "outputs": [],
      "source": [
        "# Définir le nbr d'exemple pour 1 émotion dans 1 batch\n",
        "nbr_emo_par_batch = 10\n",
        "\n",
        "# Concaténer toutes les valeurs et les labels dans des listes séparées\n",
        "X = np.concatenate(list(class_indices.values()))\n",
        "y = np.concatenate([[key] * len(class_indices[key]) for key in class_indices])\n",
        "\n",
        "# Créer un objet StratifiedShuffleSplit, cela sert pour faire une validation croisé en split pour fine-tuned un model pré-trained, on pourra donc en avoir besoin par la suite\n",
        "# sss = StratifiedShuffleSplit(n_splits=1, test_size=0.2, random_state=42)\n",
        "\n",
        "\n",
        "# ici on créé quatres listes, deux de train et deux de test de taille 80% desdonnées pour le train et 20% pour le test\n",
        "X_train, X_test, y_train, y_test = train_test_split(X, y, test_size=0.2, stratify=y, shuffle=True, random_state=42)\n",
        "\n",
        "\n",
        "compteur = [0,0,0,0,0,0]\n",
        "for i in y_train :\n",
        "    compteur[i-1] +=1\n",
        "\n",
        "print(compteur)\n",
        "\n",
        "nbr_batch_train = min(compteur[i] // nbr_emo_par_batch for i in range(len(compteur)))\n",
        "\n",
        "print(nbr_batch_train)"
      ]
    },
    {
      "cell_type": "code",
      "execution_count": null,
      "metadata": {
        "id": "FD0FDC5K3_GS"
      },
      "outputs": [],
      "source": [
        "def creer_batch_train_random(X_train,y_train):\n",
        "    all_batches = []\n",
        "\n",
        "    all_batches_indices = []\n",
        "\n",
        "        # Créer des batches équilibrés pour chaque split\n",
        "    for i in range(nbr_batch_train):\n",
        "        # Sélectionner des indices équilibrés de chaque classe pour former un batch\n",
        "        batch_indices = []\n",
        "        for label in np.unique(y_train):\n",
        "\n",
        "            indices_du_label = []\n",
        "\n",
        "            while len(indices_du_label) != nbr_emo_par_batch:\n",
        "\n",
        "                indice_valeur = np.random.choice(np.where(np.array(y_train) == label)[0])\n",
        "\n",
        "                if indice_valeur not in indices_du_label:\n",
        "                    if indice_valeur not in all_batches_indices:\n",
        "                        indices_du_label.append(indice_valeur)\n",
        "\n",
        "\n",
        "            batch_indices.extend(indices_du_label)\n",
        "            all_batches_indices.extend(indices_du_label)\n",
        "\n",
        "        # Mélanger les indices du batch final\n",
        "        np.random.shuffle(batch_indices)\n",
        "\n",
        "            # Créer le batch en combinant X_batch et y_batch\n",
        "        batch = [(X_train[index], y_train[index]) for index in batch_indices]\n",
        "\n",
        "        # Ajouter le batch à la liste\n",
        "        all_batches.append(batch)\n",
        "\n",
        "    return all_batches\n",
        "\n",
        "all_batches = creer_batch_train_random(X_train,y_train)\n",
        "\n",
        "# Vérifier la taille de la liste de batches\n",
        "print(len(all_batches))  # Devrait afficher le nombre total de batches\n",
        "print(len(all_batches[0]))  # Devrait afficher la taille du premier batch\n",
        "print(all_batches[0])\n",
        "\n",
        "# repartition des label:\n",
        "compteur_label=[0,0,0,0,0,0]\n",
        "for donnee,label in all_batches[0]:\n",
        "    compteur_label[label] +=1\n",
        "print(compteur_label)  # Devrait afficher la répartition des émotions dans un batch"
      ]
    },
    {
      "cell_type": "code",
      "execution_count": null,
      "metadata": {
        "id": "UogNV08u3_GT"
      },
      "outputs": [],
      "source": [
        "def train(model, loss_fn, optimizer, n_epochs=1):\n",
        "\n",
        "    model.train(True)\n",
        "\n",
        "    loss_train = np.zeros(n_epochs)\n",
        "    acc_train = np.zeros(n_epochs)\n",
        "\n",
        "    for epoch_num in range(n_epochs):\n",
        "\n",
        "        running_corrects = 0.0 # nombre de prédiction juste\n",
        "        running_loss = 0.0 # loss\n",
        "        size = 0\n",
        "\n",
        "        compt_batch = 0\n",
        "\n",
        "        all_batches = creer_batch_train_random(X_train,y_train)\n",
        "\n",
        "\n",
        "\n",
        "        num_batches = len(all_batches)\n",
        "        all_batches_indices = list(range(num_batches))\n",
        "\n",
        "        np.random.shuffle(all_batches_indices)\n",
        "\n",
        "        for batch_index in all_batches_indices:\n",
        "\n",
        "            compt_batch +=1\n",
        "            print(f'on en est au batch {compt_batch} sur {len(all_batches)}')\n",
        "\n",
        "\n",
        "        # Obtenir le batch correspondant à l'index mélangé\n",
        "            batch_data = all_batches[batch_index]\n",
        "\n",
        "            inputs = []\n",
        "            labels = []\n",
        "\n",
        "            for donnee,label in batch_data:\n",
        "                inputs.append(donnee)\n",
        "                labels.append(label)\n",
        "\n",
        "            # print(inputs)\n",
        "            # print(labels)\n",
        "\n",
        "            labels = torch.tensor(labels,dtype=torch.long).to(device)\n",
        "\n",
        "            bs = labels.size(0)\n",
        "\n",
        "            # réinitialiser les gradients stockés pour les paramètres du réseau neuronal\n",
        "            model.zero_grad()\n",
        "\n",
        "            outputs = model(inputs)\n",
        "            # print(outputs.device)\n",
        "\n",
        "            # calculer la perte sur le training set\n",
        "            loss = loss_fn(outputs, labels)\n",
        "\n",
        "            # la back propagation\n",
        "            loss.backward()\n",
        "\n",
        "            # la descente de gradient (selon la methode Adam ici)\n",
        "            optimizer.step()\n",
        "\n",
        "            # stocker la loss et calculer le nombre de prédictions correctes\n",
        "            running_loss += loss\n",
        "            preds = (outputs >= 0.5).type(torch.float32)\n",
        "            preds_argmax = torch.argmax(preds, dim=1)\n",
        "            running_corrects += torch.sum(preds_argmax == labels)\n",
        "\n",
        "            # compter le nombre d'échantillons\n",
        "            size += bs\n",
        "\n",
        "            # print(loss/bs)\n",
        "\n",
        "        epoch_loss = running_loss.item() / size\n",
        "        epoch_acc = running_corrects.item() / size\n",
        "\n",
        "        loss_train[epoch_num] = epoch_loss\n",
        "        acc_train[epoch_num] = epoch_acc\n",
        "\n",
        "        print('Epoch {} - Loss: {:.4f} Acc: {:.4f}'.format(epoch_num+1, epoch_loss, epoch_acc))\n",
        "        torch.cuda.empty_cache()\n",
        "\n",
        "    print(loss_train,acc_train)\n",
        "\n",
        "    return loss_train, acc_train"
      ]
    },
    {
      "cell_type": "markdown",
      "metadata": {
        "id": "IO5KKATQ3_GT"
      },
      "source": [
        "# Le premier modèle :"
      ]
    },
    {
      "cell_type": "markdown",
      "metadata": {
        "id": "-0E7Hu-23_GU"
      },
      "source": [
        "Ce premier réseau de neurones est basé sur l'article scientifique suivant :\n",
        "Detection of emotion by text analysis using machine learning ; Kristína Machová, Martina Szabóova , Ján Paralič and\n",
        "Ján Mičko (1 Department of Cybernetics and Artificial Intelligence, Faculty of Electrical Engineering and Informatics, Technical University of Košice, Košice, Slovakia, 2 Department of Social Sciences, Technical University of Košice, Košice, Slovakia)\n",
        "\n",
        "Les chercheurs y détaillent une architecture ayant en théorie 91% d'accurancy. Cette dernière est composé d'une couche d'embedding, une couche récurrente (LSTM), une couche de convolution, une récurrente et une couche de convolution avec des couches de dropout intermédiare.\n",
        "\n",
        "J'ai ici choisit de prendre la couche d'embedding proposé par le modèle BERT de google car les couches d'embedding sont compliquées à entrainer (pour extraire la sémantique, rajouter les tokens etc.)."
      ]
    },
    {
      "cell_type": "code",
      "execution_count": null,
      "metadata": {
        "id": "WQxENLSx3_GU"
      },
      "outputs": [],
      "source": [
        "class analyser_emo(nn.Module):\n",
        "\n",
        "    def __init__(self, bert_model_name='bert-base-uncased', embedding_dim=128, p=0.5, max_input_length=50, num_classes=6, device = device):\n",
        "\n",
        "        super(analyser_emo, self).__init__()\n",
        "\n",
        "        self.max_length = max_input_length\n",
        "\n",
        "        #couche d'embeding BERT\n",
        "\n",
        "        # Charger le modèle BERT pré-entraîné et le tokenizer\n",
        "        self.bert = BertModel.from_pretrained(bert_model_name).to(device)\n",
        "        self.tokenizer = BertTokenizer.from_pretrained(bert_model_name)\n",
        "        # Définir la couche linéaire pour ajuster la dimension de l'embedding\n",
        "        self.linear_bert = nn.Linear(self.bert.config.hidden_size, embedding_dim).to(device)\n",
        "\n",
        "        # couche de dropout\n",
        "        self.dropout = nn.Dropout(p=p).to(device)\n",
        "\n",
        "        #couche recurrent 1\n",
        "        self.lstm_1 = nn.LSTM(input_size=embedding_dim, hidden_size=128, dropout=p, batch_first=True).to(device)\n",
        "\n",
        "        #couche conv 1\n",
        "        self.convolution_1 = nn.Conv1d(in_channels=128, out_channels=128, kernel_size=10, stride=3, padding=5).to(device)\n",
        "\n",
        "        #activation ReLU\n",
        "        self.activation_Relu = nn.ReLU().to(device)\n",
        "\n",
        "        #couche recurrent 2\n",
        "        self.lstm_2 = nn.LSTM(input_size=128, hidden_size=128, dropout=p, batch_first=True).to(device)\n",
        "\n",
        "        #couche conv 2\n",
        "        self.convolution_2 = nn.Conv1d(in_channels=128, out_channels=128, kernel_size=10, stride=3, padding=5).to(device)\n",
        "\n",
        "        #couche dense final\n",
        "        self.lin = nn.Linear(in_features=128*1, out_features=num_classes).to(device)\n",
        "\n",
        "        self.device = device\n",
        "\n",
        "\n",
        "    def forward(self, input_text):\n",
        "        inputs = self.tokenizer(input_text, return_tensors='pt', padding=True, truncation=True, max_length=self.max_length)\n",
        "\n",
        "        # Transférez les données d'entrée au bon dispositif\n",
        "        inputs = {name: tensor.to(self.device) for name, tensor in inputs.items()}\n",
        "        outputs = self.bert(**inputs)\n",
        "        # Obtenir l'embedding BERT et le redimensionner\n",
        "        bert_embedding = outputs.last_hidden_state.mean(dim=1)  # Moyenne des embeddings de chaque token\n",
        "        bert_embedding = self.linear_bert(bert_embedding)\n",
        "\n",
        "\n",
        "        dropout_1 = self.dropout(bert_embedding)\n",
        "        couche_rec_1, _ = self.lstm_1(dropout_1.unsqueeze(1))  # Ajouter une dimension pour la convolution 1D\n",
        "        couche_rec_1 = couche_rec_1.permute(0, 2, 1)\n",
        "        couche_conv_1 = self.convolution_1(couche_rec_1)  # Transposer les dimensions pour correspondre aux attentes de la couche de convolution\n",
        "        couche_act_relu = self.activation_Relu(couche_conv_1.permute(0, 2, 1))  # Transposer les dimensions pour correspondre aux attentes de la LSTM 2\n",
        "        couche_rec_2, _ = self.lstm_2(couche_act_relu)  # LSTM 2\n",
        "        couche_conv_2 = self.convolution_2(couche_rec_2.permute(0, 2, 1))  # Transposer les dimensions pour correspondre aux attentes de la couche de convolution\n",
        "        couche_lin = self.lin(couche_conv_2.squeeze())\n",
        "\n",
        "        output_final = torch.softmax(couche_lin, dim=-1)\n",
        "\n",
        "        return output_final.to(self.device)"
      ]
    },
    {
      "cell_type": "markdown",
      "metadata": {
        "id": "TTHSZx9-3_GU"
      },
      "source": [
        "On test ici notre modèle pour voir si toutes les couches ont été bien reliés au niveau des dimensions.\n",
        "On peut voir que la sortie (la proba pour chaque classes) est bien repartie (un peu près une proba de 1/6 ~ 0.167)."
      ]
    },
    {
      "cell_type": "code",
      "execution_count": null,
      "metadata": {
        "id": "XmHanJT73_GU"
      },
      "outputs": [],
      "source": [
        "# 1er modèle test\n",
        "analyser_1 = analyser_emo()\n",
        "print(analyser_1.forward(['salut']))"
      ]
    },
    {
      "cell_type": "markdown",
      "metadata": {
        "id": "bK8gRxkP3_GU"
      },
      "source": [
        "importation et entrainement du premier modèle :\n",
        "\n",
        "---\n",
        "\n",
        "On va ici importer et mettre notre modèle sur cuda pour pouvoir entrainer notre modèle (sur CPU, la RAM crash assez vite)."
      ]
    },
    {
      "cell_type": "code",
      "execution_count": null,
      "metadata": {
        "id": "upEPMIQy3_GV"
      },
      "outputs": [],
      "source": [
        "analyser_emotion = analyser_emo()\n",
        "\n",
        "if torch.cuda.is_available():\n",
        "    # Parcourir les paramètres de votre modèle\n",
        "    for param in analyser_emotion.parameters():\n",
        "        # Transférer chaque paramètre sur CUDA\n",
        "        param.data = param.data.to('cuda')\n",
        "\n",
        "    # Transférer également votre modèle sur CUDA\n",
        "    analyser_emotion.to('cuda')\n",
        "else:\n",
        "    print(\"CUDA n'est pas disponible. Les tenseurs resteront sur CPU.\")"
      ]
    },
    {
      "cell_type": "markdown",
      "metadata": {
        "id": "-4Hc0hwQ3_GV"
      },
      "source": [
        "---\n",
        "\n",
        "Ici on va \"geler\" les poids de la couche d'embedding pour améliorer la vitesse de l'entrainement. En effet cette couche étant déjà pré-entraînée, elle sort des tokens déjà utiles pour notre réseau, pas besoin de la ré-entrainer (d'autant que cela demande beaucoup de puissance de calcul et de temps).\n",
        "Pour geler une couche, on arrête de traquer le gradient."
      ]
    },
    {
      "cell_type": "code",
      "execution_count": null,
      "metadata": {
        "id": "lEB5s6913_GV"
      },
      "outputs": [],
      "source": [
        "# gel des poids de la couche de l'embedding\n",
        "\n",
        "for name, param in analyser_emotion.named_parameters():\n",
        "    if 'bert' in name or 'tokenizer' in name or 'linear_bert' in name:\n",
        "        param.requires_grad = False"
      ]
    },
    {
      "cell_type": "markdown",
      "metadata": {
        "id": "hTNt0SMB3_GV"
      },
      "source": [
        "\n",
        "---\n",
        "On commence alors l'entrainement en utilisant la méthode Adam (l'adaptation du gradient en fonction de ses moments d'ordre 1 et 2 actuel et précédent est utile ici) et la cross entropy comme fonction de perte (car on a des classes).\n",
        "\n",
        "Le learning rate est à modifier arbitrairement mais cependant, le modèle ayant du mal à s'entrainer (comme vous le verrez), j'ai choisi ici un learning rate élevé.\n",
        "(remarque : un lr de 100 donne une loss qui diverge parfois et est donc trop élevé)"
      ]
    },
    {
      "cell_type": "code",
      "execution_count": null,
      "metadata": {
        "id": "s_SeQ65x3_GV"
      },
      "outputs": [],
      "source": [
        "learning_rate = 10\n",
        "n_epochs = 5\n",
        "\n",
        "optimizer = optim.Adam(analyser_emotion.parameters(), lr=learning_rate)\n",
        "loss_fn = nn.CrossEntropyLoss()"
      ]
    },
    {
      "cell_type": "code",
      "execution_count": null,
      "metadata": {
        "id": "odWFbPlu3_GV",
        "outputId": "ca250ee5-8650-4c5f-dd35-d7c5c513af71"
      },
      "outputs": [
        {
          "name": "stdout",
          "output_type": "stream",
          "text": [
            "on en est au batch 1 sur 47\n",
            "on en est au batch 2 sur 47\n",
            "on en est au batch 3 sur 47\n",
            "on en est au batch 4 sur 47\n",
            "on en est au batch 5 sur 47\n",
            "on en est au batch 6 sur 47\n",
            "on en est au batch 7 sur 47\n",
            "on en est au batch 8 sur 47\n",
            "on en est au batch 9 sur 47\n",
            "on en est au batch 10 sur 47\n",
            "on en est au batch 11 sur 47\n",
            "on en est au batch 12 sur 47\n",
            "on en est au batch 13 sur 47\n",
            "on en est au batch 14 sur 47\n",
            "on en est au batch 15 sur 47\n",
            "on en est au batch 16 sur 47\n",
            "on en est au batch 17 sur 47\n",
            "on en est au batch 18 sur 47\n",
            "on en est au batch 19 sur 47\n",
            "on en est au batch 20 sur 47\n",
            "on en est au batch 21 sur 47\n",
            "on en est au batch 22 sur 47\n",
            "on en est au batch 23 sur 47\n",
            "on en est au batch 24 sur 47\n",
            "on en est au batch 25 sur 47\n",
            "on en est au batch 26 sur 47\n",
            "on en est au batch 27 sur 47\n",
            "on en est au batch 28 sur 47\n",
            "on en est au batch 29 sur 47\n",
            "on en est au batch 30 sur 47\n",
            "on en est au batch 31 sur 47\n",
            "on en est au batch 32 sur 47\n",
            "on en est au batch 33 sur 47\n",
            "on en est au batch 34 sur 47\n",
            "on en est au batch 35 sur 47\n",
            "on en est au batch 36 sur 47\n",
            "on en est au batch 37 sur 47\n",
            "on en est au batch 38 sur 47\n",
            "on en est au batch 39 sur 47\n",
            "on en est au batch 40 sur 47\n",
            "on en est au batch 41 sur 47\n",
            "on en est au batch 42 sur 47\n",
            "on en est au batch 43 sur 47\n",
            "on en est au batch 44 sur 47\n",
            "on en est au batch 45 sur 47\n",
            "on en est au batch 46 sur 47\n",
            "on en est au batch 47 sur 47\n",
            "Epoch 1 - Loss: 0.0299 Acc: 0.1667\n",
            "on en est au batch 1 sur 47\n",
            "on en est au batch 2 sur 47\n",
            "on en est au batch 3 sur 47\n",
            "on en est au batch 4 sur 47\n",
            "on en est au batch 5 sur 47\n",
            "on en est au batch 6 sur 47\n",
            "on en est au batch 7 sur 47\n",
            "on en est au batch 8 sur 47\n",
            "on en est au batch 9 sur 47\n",
            "on en est au batch 10 sur 47\n",
            "on en est au batch 11 sur 47\n",
            "on en est au batch 12 sur 47\n",
            "on en est au batch 13 sur 47\n",
            "on en est au batch 14 sur 47\n",
            "on en est au batch 15 sur 47\n",
            "on en est au batch 16 sur 47\n",
            "on en est au batch 17 sur 47\n",
            "on en est au batch 18 sur 47\n",
            "on en est au batch 19 sur 47\n",
            "on en est au batch 20 sur 47\n",
            "on en est au batch 21 sur 47\n",
            "on en est au batch 22 sur 47\n",
            "on en est au batch 23 sur 47\n",
            "on en est au batch 24 sur 47\n",
            "on en est au batch 25 sur 47\n",
            "on en est au batch 26 sur 47\n",
            "on en est au batch 27 sur 47\n",
            "on en est au batch 28 sur 47\n",
            "on en est au batch 29 sur 47\n",
            "on en est au batch 30 sur 47\n",
            "on en est au batch 31 sur 47\n",
            "on en est au batch 32 sur 47\n",
            "on en est au batch 33 sur 47\n",
            "on en est au batch 34 sur 47\n",
            "on en est au batch 35 sur 47\n",
            "on en est au batch 36 sur 47\n",
            "on en est au batch 37 sur 47\n",
            "on en est au batch 38 sur 47\n",
            "on en est au batch 39 sur 47\n",
            "on en est au batch 40 sur 47\n",
            "on en est au batch 41 sur 47\n",
            "on en est au batch 42 sur 47\n",
            "on en est au batch 43 sur 47\n",
            "on en est au batch 44 sur 47\n",
            "on en est au batch 45 sur 47\n",
            "on en est au batch 46 sur 47\n",
            "on en est au batch 47 sur 47\n",
            "Epoch 2 - Loss: 0.0299 Acc: 0.1667\n",
            "on en est au batch 1 sur 47\n",
            "on en est au batch 2 sur 47\n",
            "on en est au batch 3 sur 47\n",
            "on en est au batch 4 sur 47\n",
            "on en est au batch 5 sur 47\n",
            "on en est au batch 6 sur 47\n",
            "on en est au batch 7 sur 47\n",
            "on en est au batch 8 sur 47\n",
            "on en est au batch 9 sur 47\n",
            "on en est au batch 10 sur 47\n",
            "on en est au batch 11 sur 47\n",
            "on en est au batch 12 sur 47\n",
            "on en est au batch 13 sur 47\n",
            "on en est au batch 14 sur 47\n",
            "on en est au batch 15 sur 47\n",
            "on en est au batch 16 sur 47\n",
            "on en est au batch 17 sur 47\n",
            "on en est au batch 18 sur 47\n",
            "on en est au batch 19 sur 47\n",
            "on en est au batch 20 sur 47\n",
            "on en est au batch 21 sur 47\n",
            "on en est au batch 22 sur 47\n",
            "on en est au batch 23 sur 47\n",
            "on en est au batch 24 sur 47\n",
            "on en est au batch 25 sur 47\n",
            "on en est au batch 26 sur 47\n",
            "on en est au batch 27 sur 47\n",
            "on en est au batch 28 sur 47\n",
            "on en est au batch 29 sur 47\n",
            "on en est au batch 30 sur 47\n",
            "on en est au batch 31 sur 47\n",
            "on en est au batch 32 sur 47\n",
            "on en est au batch 33 sur 47\n",
            "on en est au batch 34 sur 47\n",
            "on en est au batch 35 sur 47\n",
            "on en est au batch 36 sur 47\n",
            "on en est au batch 37 sur 47\n",
            "on en est au batch 38 sur 47\n",
            "on en est au batch 39 sur 47\n",
            "on en est au batch 40 sur 47\n",
            "on en est au batch 41 sur 47\n",
            "on en est au batch 42 sur 47\n",
            "on en est au batch 43 sur 47\n",
            "on en est au batch 44 sur 47\n",
            "on en est au batch 45 sur 47\n",
            "on en est au batch 46 sur 47\n",
            "on en est au batch 47 sur 47\n",
            "Epoch 3 - Loss: 0.0299 Acc: 0.1667\n",
            "on en est au batch 1 sur 47\n",
            "on en est au batch 2 sur 47\n",
            "on en est au batch 3 sur 47\n",
            "on en est au batch 4 sur 47\n",
            "on en est au batch 5 sur 47\n",
            "on en est au batch 6 sur 47\n",
            "on en est au batch 7 sur 47\n",
            "on en est au batch 8 sur 47\n",
            "on en est au batch 9 sur 47\n",
            "on en est au batch 10 sur 47\n",
            "on en est au batch 11 sur 47\n",
            "on en est au batch 12 sur 47\n",
            "on en est au batch 13 sur 47\n",
            "on en est au batch 14 sur 47\n",
            "on en est au batch 15 sur 47\n",
            "on en est au batch 16 sur 47\n",
            "on en est au batch 17 sur 47\n",
            "on en est au batch 18 sur 47\n",
            "on en est au batch 19 sur 47\n",
            "on en est au batch 20 sur 47\n",
            "on en est au batch 21 sur 47\n",
            "on en est au batch 22 sur 47\n",
            "on en est au batch 23 sur 47\n",
            "on en est au batch 24 sur 47\n",
            "on en est au batch 25 sur 47\n",
            "on en est au batch 26 sur 47\n",
            "on en est au batch 27 sur 47\n",
            "on en est au batch 28 sur 47\n",
            "on en est au batch 29 sur 47\n",
            "on en est au batch 30 sur 47\n",
            "on en est au batch 31 sur 47\n",
            "on en est au batch 32 sur 47\n",
            "on en est au batch 33 sur 47\n",
            "on en est au batch 34 sur 47\n",
            "on en est au batch 35 sur 47\n",
            "on en est au batch 36 sur 47\n",
            "on en est au batch 37 sur 47\n",
            "on en est au batch 38 sur 47\n",
            "on en est au batch 39 sur 47\n",
            "on en est au batch 40 sur 47\n",
            "on en est au batch 41 sur 47\n",
            "on en est au batch 42 sur 47\n",
            "on en est au batch 43 sur 47\n",
            "on en est au batch 44 sur 47\n",
            "on en est au batch 45 sur 47\n",
            "on en est au batch 46 sur 47\n",
            "on en est au batch 47 sur 47\n",
            "Epoch 4 - Loss: 0.0299 Acc: 0.1667\n",
            "on en est au batch 1 sur 47\n",
            "on en est au batch 2 sur 47\n",
            "on en est au batch 3 sur 47\n",
            "on en est au batch 4 sur 47\n",
            "on en est au batch 5 sur 47\n",
            "on en est au batch 6 sur 47\n",
            "on en est au batch 7 sur 47\n",
            "on en est au batch 8 sur 47\n",
            "on en est au batch 9 sur 47\n",
            "on en est au batch 10 sur 47\n",
            "on en est au batch 11 sur 47\n",
            "on en est au batch 12 sur 47\n",
            "on en est au batch 13 sur 47\n",
            "on en est au batch 14 sur 47\n",
            "on en est au batch 15 sur 47\n",
            "on en est au batch 16 sur 47\n",
            "on en est au batch 17 sur 47\n",
            "on en est au batch 18 sur 47\n",
            "on en est au batch 19 sur 47\n",
            "on en est au batch 20 sur 47\n",
            "on en est au batch 21 sur 47\n",
            "on en est au batch 22 sur 47\n",
            "on en est au batch 23 sur 47\n",
            "on en est au batch 24 sur 47\n",
            "on en est au batch 25 sur 47\n",
            "on en est au batch 26 sur 47\n",
            "on en est au batch 27 sur 47\n",
            "on en est au batch 28 sur 47\n",
            "on en est au batch 29 sur 47\n",
            "on en est au batch 30 sur 47\n",
            "on en est au batch 31 sur 47\n",
            "on en est au batch 32 sur 47\n",
            "on en est au batch 33 sur 47\n",
            "on en est au batch 34 sur 47\n",
            "on en est au batch 35 sur 47\n",
            "on en est au batch 36 sur 47\n",
            "on en est au batch 37 sur 47\n",
            "on en est au batch 38 sur 47\n",
            "on en est au batch 39 sur 47\n",
            "on en est au batch 40 sur 47\n",
            "on en est au batch 41 sur 47\n",
            "on en est au batch 42 sur 47\n",
            "on en est au batch 43 sur 47\n",
            "on en est au batch 44 sur 47\n",
            "on en est au batch 45 sur 47\n",
            "on en est au batch 46 sur 47\n",
            "on en est au batch 47 sur 47\n",
            "Epoch 5 - Loss: 0.0299 Acc: 0.1667\n",
            "[0.02986315 0.02986293 0.02986282 0.02986274 0.02986271] [0.16666667 0.16666667 0.16666667 0.16666667 0.16666667]\n"
          ]
        }
      ],
      "source": [
        "torch.cuda.empty_cache()  # Videz le cache CUDA\n",
        "\n",
        "print(n_epochs, learning_rate)\n",
        "\n",
        "training_loss , training_acc = train(analyser_emotion,  loss_fn, optimizer, n_epochs)"
      ]
    },
    {
      "cell_type": "code",
      "execution_count": null,
      "metadata": {
        "id": "dge1niLc3_GV",
        "outputId": "d1a33e67-3614-4a01-cef1-f08094c9c20e"
      },
      "outputs": [
        {
          "data": {
            "text/plain": [
              "Text(0, 0.5, 'CE loss')"
            ]
          },
          "execution_count": 38,
          "metadata": {},
          "output_type": "execute_result"
        },
        {
          "data": {
            "image/png": "[encoded data removed]",
            "text/plain": [
              "<Figure size 640x480 with 1 Axes>"
            ]
          },
          "metadata": {},
          "output_type": "display_data"
        }
      ],
      "source": [
        "plt.plot(training_loss)\n",
        "plt.xlabel('epoch')\n",
        "plt.ylabel('CE loss')"
      ]
    },
    {
      "cell_type": "code",
      "execution_count": null,
      "metadata": {
        "id": "JKrsUcKU3_GW"
      },
      "outputs": [],
      "source": [
        "plt.plot(training_acc)\n",
        "plt.xlabel('epoch')\n",
        "plt.ylabel('acc')"
      ]
    },
    {
      "cell_type": "markdown",
      "metadata": {
        "id": "CqUMBRDE3_GW"
      },
      "source": [
        "\n",
        "---\n",
        "En conclusion de ce modèle : il est sans doute efficace selon l'article mais beaucoup trop compliqué à entrainer avec nos ressources. Cela est sans doute dû au LSTM qui possède énormément de paramètres ( ici 4*(128+128+1)*128=131 584 par couche récurrente, donc avec les couches de convolution ça fait beaucoup)."
      ]
    },
    {
      "cell_type": "markdown",
      "metadata": {
        "id": "9wh-ORlV3_GW"
      },
      "source": [
        "# 2ème modèle (en utilisant le transformer BERT)"
      ]
    },
    {
      "cell_type": "markdown",
      "metadata": {
        "id": "HtWngzQJ3_GW"
      },
      "source": [
        "BERT :  Bidirectional Encoder Representations from Transformers\n",
        "\n",
        "Les transformers sont très efficace pour le NLP, c'est pourquoi j'ai choisit un transformers pré-entrainé pour résoudre notre problème. Le transformer BERT, au vu de sa description et des bases de données sur lesquelles il s'est entrainé semblait alors être le plus pertinent (même si le choix est quelque peu arbitraire).\n",
        "\n",
        "BERT a été pré-entraîné (par Google AI) sur un large corpus de données textuelles provenant de diverses sources, telles que des articles de Wikipédia, des livres, des documents web, des forums en ligne, des articles de presse, etc. L'objectif de ce pré-entraînement était de capturer des représentations linguistiques générales qui peuvent être ensuite adaptées à différentes tâches spécifiques.\n",
        "\n",
        "J'utiliserai ici la tâche de classification. On peut voir que BERT n'a pas été entrainé sur la base de donnée IEMOCAP car l'accuracy est au départ de 0.167\n",
        "\n",
        "On définit donc une classe pour notre modèle basé sur BERT :"
      ]
    },
    {
      "cell_type": "code",
      "execution_count": null,
      "metadata": {
        "id": "rBc2qERk3_GW"
      },
      "outputs": [],
      "source": [
        "class BertClassifier(nn.Module):\n",
        "    def __init__(self, num_classes=6, pretrained_model_name='bert-base-uncased', device = device):\n",
        "        super(BertClassifier, self).__init__()\n",
        "        self.num_classes = num_classes\n",
        "        self.tokenizer = BertTokenizer.from_pretrained(pretrained_model_name)\n",
        "        self.bert = BertForSequenceClassification.from_pretrained(pretrained_model_name, num_labels=num_classes).to(device)\n",
        "\n",
        "        self.device = device\n",
        "\n",
        "\n",
        "    def forward(self, input_text):\n",
        "        # Tokenization\n",
        "        inputs = self.tokenizer(input_text, return_tensors='pt', padding=True, truncation=True).to(self.device)\n",
        "        # Classification\n",
        "        outputs = self.bert(**inputs)\n",
        "        outputs_final = torch.softmax(outputs.logits, dim=-1)\n",
        "\n",
        "        return outputs_final"
      ]
    },
    {
      "cell_type": "markdown",
      "metadata": {
        "id": "V5nGg6P73_GX"
      },
      "source": [
        "---\n",
        "importation du modèle et entrainement du second model (de la même manière que pour le premier modèle)."
      ]
    },
    {
      "cell_type": "code",
      "execution_count": null,
      "metadata": {
        "id": "8S9Vrfmd3_GX"
      },
      "outputs": [],
      "source": [
        "classificateur_emo_bert = BertClassifier()\n",
        "\n",
        "if torch.cuda.is_available():\n",
        "    print(\"on va sur cuda\")\n",
        "    # Parcourir les paramètres de votre modèle\n",
        "    for param in classificateur_emo_bert.parameters():\n",
        "        # Transférer chaque paramètre sur CUDA\n",
        "        param.data = param.data.to('cuda')\n",
        "\n",
        "    # Transférer également votre modèle sur CUDA\n",
        "    classificateur_emo_bert.to('cuda')\n",
        "else:\n",
        "    print(\"CUDA n'est pas disponible. Les tenseurs resteront sur CPU.\")"
      ]
    },
    {
      "cell_type": "markdown",
      "metadata": {
        "id": "CzCDQJL03_GX"
      },
      "source": [
        "---\n",
        "Ici, le lr est choisit beaucoup plus petit car ce modèle converge beaucoup plus rapidement que le premier. En général, je choisis un lr de 1e-1 pour les 10 premières epochs, puis un 1e-2 pour les 10 suivantes et enfin un 1e-3 pour le reste. Cela permet que le modèle reste précis mais s'entraine rapidement."
      ]
    },
    {
      "cell_type": "code",
      "execution_count": null,
      "metadata": {
        "id": "n_inpRBX3_Gc"
      },
      "outputs": [],
      "source": [
        "learning_rate = 1e-3\n",
        "n_epochs = 10\n",
        "\n",
        "optimizer = optim.Adam(classificateur_emo_bert.parameters(), lr=learning_rate)\n",
        "loss_fn = nn.CrossEntropyLoss()"
      ]
    },
    {
      "cell_type": "markdown",
      "metadata": {
        "id": "5Q1DLE0y3_Gc"
      },
      "source": [
        "(j'ai gardé les différentes loss et accuracy lors des entrainements précédents. On peut notamment voir que le modèle arrive à 82% d'accuracy."
      ]
    },
    {
      "cell_type": "code",
      "execution_count": null,
      "metadata": {
        "id": "2tdh6N7f3_Gc"
      },
      "outputs": [],
      "source": [
        "torch.cuda.empty_cache()  # Videz le cache CUDA\n",
        "\n",
        "print(n_epochs,learning_rate)\n",
        "training_loss , training_acc = train(classificateur_emo_bert, loss_fn, optimizer, n_epochs)\n",
        "\n",
        "plt.plot(training_loss)\n",
        "plt.xlabel('epoch')\n",
        "plt.ylabel('CE loss')\n",
        "\n",
        "plt.plot(training_acc)\n",
        "plt.xlabel('epoch')\n",
        "plt.ylabel('acc')\n",
        "\n",
        "# loss =[0.02765068 0.02725666 0.02704823 0.02664275 0.02634453 0.02612578\n",
        "#  0.02590721 0.0254673  0.02523997 0.02495639 0.02461087 0.02422475\n",
        "#  0.02403708 0.02364573 0.02349734 0.0232953  0.02313531 0.02286776\n",
        "#  0.02290078 0.02264368 0.0223601  0.02226738 0.0221536  0.02195324\n",
        "#  0.02183018 0.02187026 0.02168758 0.02147265 0.02150043 0.02145139]\n",
        "# acc =[0.35531915 0.39397163 0.40957447 0.43617021 0.4606383  0.46241135\n",
        "#  0.48262411 0.52092199 0.53758865 0.55957447 0.5893617  0.60460993\n",
        "#  0.61843972 0.63971631 0.64751773 0.66631206 0.66595745 0.68439716\n",
        "#  0.68439716 0.69822695 0.71702128 0.71950355 0.72304965 0.7393617\n",
        "#  0.74007092 0.73723404 0.75248227 0.76879433 0.76347518 0.76312057]\n",
        "# loss =[0.02145962 0.02129947 0.02131816 0.02125578 0.02118106 0.02104496\n",
        "#  0.02109007 0.02104837 0.02093198 0.02097597 0.02086502 0.02083805\n",
        "#  0.02093464 0.02080769 0.02071834 0.0206867  0.02066573 0.02071064\n",
        "#  0.02064641 0.02066663 0.02059581 0.02064744 0.02055597 0.0205692\n",
        "#  0.02048292 0.02056026 0.02053437 0.02048611 0.02040847 0.02040384]\n",
        "#  acc =[0.76205674 0.77021277 0.76843972 0.77411348 0.77836879 0.78865248\n",
        "#  0.78652482 0.78687943 0.79326241 0.78865248 0.79751773 0.7964539\n",
        "#  0.7929078  0.80141844 0.80602837 0.80815603 0.80567376 0.80390071\n",
        "#  0.80992908 0.8070922  0.81028369 0.80886525 0.81347518 0.81028369\n",
        "#  0.81843972 0.81347518 0.8141844  0.81737589 0.82234043 0.8212766 ]\n",
        "\n",
        "# deuxième session en recommençant de zéro car le réseau s'est mal enregistré\n",
        "\n",
        "# loss =[0.01419637 0.01396663 0.013868   0.01357411 0.01312468 0.01280451\n",
        "#  0.01259687 0.01232456 0.01220601 0.01204682]\n",
        "#  acc =[0.16666667 0.18903319 0.22727273 0.28102453 0.36075036 0.41594517\n",
        "#  0.4498557  0.48268398 0.50180375 0.51623377]\n",
        "# loss =[0.01163287 0.0115118  0.01135006 0.01138314 0.01137112 0.01134926\n",
        "#  0.01140202 0.01118329 0.01117278 0.01125082]\n",
        "#  acc =[0.57395382 0.59632035 0.62121212 0.61147186 0.61616162 0.61796537\n",
        "#  0.60822511 0.64105339 0.64646465 0.62806638]\n",
        "# loss =[0.01116812 0.0110818  0.01125656 0.01110577 0.01117366 0.01113716\n",
        "#  0.01114397 0.01113306 0.01099516 0.01112097]\n",
        "#  acc =[0.64321789 0.65836941 0.63095238 0.65151515 0.64574315 0.65007215\n",
        "#  0.6453824  0.6468254  0.66594517 0.65367965]\n",
        "# loss =[0.01110605 0.01103843 0.01098787 0.01103318 0.01111039 0.01099524\n",
        "#  0.01115685 0.01109176 0.01114987 0.01110056]\n",
        "#  acc =[0.65151515 0.66017316 0.66991342 0.65873016 0.64862915 0.66738817\n",
        "#  0.64430014 0.6489899  0.6475469  0.6511544 ]"
      ]
    },
    {
      "cell_type": "markdown",
      "metadata": {
        "id": "twM6I0zE3_Gc"
      },
      "source": [
        "Conclusion sur ce modèle : ce dernier s'entraine bien plus rapidement que le modèle précédent et nous permet d'avoir des résultats bien plus quantitatif (proche de ceux de la litérrature scientifique)."
      ]
    },
    {
      "cell_type": "markdown",
      "metadata": {
        "id": "6JMXyR2E3_Gc"
      },
      "source": [
        "# 3eme modèle : utilisation de RoBERTa\n"
      ]
    },
    {
      "cell_type": "markdown",
      "metadata": {
        "id": "0iBizvDg3_Gd"
      },
      "source": [
        "Ici j'utilise RoBERTa (Robustly optimized BERT approach) qui est également un transformers. RoBERTa est une amélioration de BERT développée par Facebook AI. Il est conçu pour être plus robuste et performant que BERT en appliquant diverses techniques d'optimisation. RoBERTa est entraîné sur une quantité encore plus importante de données textuelles et utilise des stratégies d'entraînement plus avancées pour améliorer ses performances sur une variété de tâches de traitement du langage naturel."
      ]
    },
    {
      "cell_type": "code",
      "execution_count": null,
      "metadata": {
        "id": "PkqXxNF93_Gd"
      },
      "outputs": [],
      "source": [
        "class RobertaClassifier(nn.Module):\n",
        "    def __init__(self, num_classes=6, pretrained_model_name='roberta-base', device=device):\n",
        "        super(RobertaClassifier, self).__init__()\n",
        "        self.num_classes = num_classes\n",
        "        self.tokenizer = RobertaTokenizer.from_pretrained(pretrained_model_name)\n",
        "        self.roberta = RobertaForSequenceClassification.from_pretrained(pretrained_model_name, num_labels=num_classes).to(device)\n",
        "        self.device = device\n",
        "\n",
        "    def forward(self, input_text):\n",
        "        # Tokenization\n",
        "        inputs = self.tokenizer(input_text, return_tensors='pt', padding=True, truncation=True).to(self.device)\n",
        "        # Classification\n",
        "        outputs = self.roberta(**inputs)\n",
        "        outputs_final = torch.softmax(outputs.logits, dim=-1)\n",
        "\n",
        "        return outputs_final"
      ]
    },
    {
      "cell_type": "markdown",
      "metadata": {
        "id": "QkrEhkHJ3_Gd"
      },
      "source": [
        "---\n",
        "Importation et entrainement du troisième modèle :\n",
        "\n",
        "(de même que précédement)"
      ]
    },
    {
      "cell_type": "code",
      "execution_count": null,
      "metadata": {
        "id": "QwpTwZcS3_Gd"
      },
      "outputs": [],
      "source": [
        "classificateur_emo_RoBERTa = RobertaClassifier()\n",
        "\n",
        "if torch.cuda.is_available():\n",
        "    print(\"on va sur cuda\")\n",
        "    # Parcourir les paramètres de votre modèle\n",
        "    for param in classificateur_emo_RoBERTa.parameters():\n",
        "        # Transférer chaque paramètre sur CUDA\n",
        "        param.data = param.data.to('cuda')\n",
        "\n",
        "    # Transférer également votre modèle sur CUDA\n",
        "    classificateur_emo_RoBERTa.to('cuda')\n",
        "else:\n",
        "    print(\"CUDA n'est pas disponible. Les tenseurs resteront sur CPU.\")"
      ]
    },
    {
      "cell_type": "markdown",
      "metadata": {
        "id": "eMT-RDdw3_Gd"
      },
      "source": [
        "(j'applique ici la même méthode de variation du learning rate que pour BERT)"
      ]
    },
    {
      "cell_type": "code",
      "execution_count": null,
      "metadata": {
        "id": "MbJfuYpj3_Gd"
      },
      "outputs": [],
      "source": [
        "learning_rate = 1e-2\n",
        "n_epochs = 10\n",
        "\n",
        "optimizer = optim.Adam(classificateur_emo_RoBERTa.parameters(), lr=learning_rate)\n",
        "loss_fn = nn.CrossEntropyLoss()"
      ]
    },
    {
      "cell_type": "markdown",
      "metadata": {
        "id": "7LGjkZUV3_Ge"
      },
      "source": [
        "(J'ai également ici conservé les valeurs de la loss et de l'accuracy pour l'entraineemnt de ce modèle et on observe qu'on obtient une accuracy ~ 67%)"
      ]
    },
    {
      "cell_type": "code",
      "execution_count": null,
      "metadata": {
        "id": "RA_qHtlO3_Ge"
      },
      "outputs": [],
      "source": [
        "torch.cuda.empty_cache()  # Videz le cache CUDA\n",
        "print(learning_rate, n_epochs)\n",
        "training_loss , training_acc = train(classificateur_emo_RoBERTa, loss_fn, optimizer, n_epochs)\n",
        "\n",
        "plt.plot(training_loss)\n",
        "plt.xlabel('epoch')\n",
        "plt.ylabel('CE loss')\n",
        "\n",
        "plt.plot(training_acc)\n",
        "plt.xlabel('epoch')\n",
        "plt.ylabel('acc')\n",
        "\n",
        "\n",
        "# loss =[0.02987032 0.02985641 0.02983716 0.02940839 0.02915803 0.02891392\n",
        "#  0.02824112 0.0284073  0.02801978 0.02795586]\n",
        "#  acc =[0.16666667 0.16666667 0.16666667 0.18085106 0.22588652 0.2606383\n",
        "#  0.3248227  0.31205674 0.34078014 0.3393617 ]\n",
        "# loss =[0.02692681 0.02615466 0.02586578 0.0257286  0.02542788 0.02515948\n",
        "#  0.02547382 0.02507261 0.02493977 0.02456494 0.02456875 0.02448062\n",
        "#  0.02458525 0.02442469 0.02412935 0.02420645 0.02396414 0.02406923\n",
        "#  0.02386605 0.02396385]\n",
        "#  acc =[0.42056738 0.4712766  0.48723404 0.49219858 0.51312057 0.53546099\n",
        "#  0.51489362 0.5358156  0.5429078  0.56631206 0.56950355 0.5751773\n",
        "#  0.5677305  0.57801418 0.59609929 0.58900709 0.60531915 0.59539007\n",
        "#  0.61170213 0.60390071]\n",
        "# on double la taille du batch :\n",
        "# loss =[0.01170279 0.01180711 0.01186781 0.0116768  0.01178388 0.01169416\n",
        "#  0.01167699 0.0116847  0.01166893 0.01164661 0.01165959 0.01160242\n",
        "#  0.01163244 0.01144577 0.01157438 0.01163777 0.01150932 0.01149496\n",
        "#  0.01153449 0.01158204]\n",
        "#  acc =[0.64202899 0.62862319 0.61992754 0.64275362 0.62971014 0.63876812\n",
        "#  0.64130435 0.64166667 0.64456522 0.64565217 0.64456522 0.65217391\n",
        "#  0.65       0.66992754 0.65543478 0.64673913 0.66304348 0.66268116\n",
        "# #  0.65724638 0.65543478]\n",
        "# loss =[0.01151284 0.01135067 0.011437   0.01143575 0.01153868 0.01159436\n",
        "#  0.01155198 0.0115619  0.01155206 0.01157762]\n",
        "#  acc =[0.66123188 0.68224638 0.67028986 0.66992754 0.66086957 0.65326087\n",
        "#  0.65652174 0.65471014 0.65615942 0.65507246]\n",
        "# loss =[0.01149768 0.01143562 0.01148595 0.01143775 0.01145755 0.01133253\n",
        "#  0.01157295 0.01138732 0.01149544 0.01141403]\n",
        "#  acc =[0.66485507 0.6692029  0.66630435 0.66775362 0.67210145 0.68297101\n",
        "#  0.65253623 0.67826087 0.6615942  0.67028986]"
      ]
    },
    {
      "cell_type": "markdown",
      "metadata": {
        "id": "6I2ExE4_3_Ge"
      },
      "source": [
        "Conclusion sur ce modèle : nous n'observons pas une réel amélioration par rapport au modèle basé sur BERT."
      ]
    },
    {
      "cell_type": "markdown",
      "metadata": {
        "id": "7leGk_sn3_Ge"
      },
      "source": [
        "# Le test :"
      ]
    },
    {
      "cell_type": "markdown",
      "metadata": {
        "id": "NcOZPFoT3_Ge"
      },
      "source": [
        "Ici j'ai fait un test manuel avec une phrase que l'on rentre pour voir réelement le résultat de notre travail."
      ]
    },
    {
      "cell_type": "code",
      "execution_count": null,
      "metadata": {
        "id": "II9egaHP3_Ge"
      },
      "outputs": [],
      "source": [
        "#test manuel\n",
        "#rappel:\n",
        "    # 0: neutral,\n",
        "    # 1: angr\n",
        "    # 2: happy\n",
        "    # 3: sad\n",
        "    # 4: excited\n",
        "    # 5: frustrated\n",
        "\n",
        "sent = \"I can't wait to see you\"\n",
        "\n",
        "model = classificateur_emo_RoBERTa\n",
        "\n",
        "print(torch.argmax(model.forward([sent])))\n",
        "print(classificateur_emo_RoBERTa.forward([sent]))"
      ]
    },
    {
      "cell_type": "markdown",
      "metadata": {
        "id": "kScvkUUB3_Gf"
      },
      "source": [
        "Ici on va batcher les données de test en batch de 64 (pour que ça soit facilement traité par le GPU) et un batch avec ceux qui reste. Ici on ne fait plus attention de mélanger, le deséquilibre des classes dans le batch n'est plus un problème car le modèle ne s'entraine pas dessus."
      ]
    },
    {
      "cell_type": "code",
      "execution_count": null,
      "metadata": {
        "id": "Vg_L6s-W3_Gf"
      },
      "outputs": [],
      "source": [
        "# pour batcher les données de test :\n",
        "print(len(X_test))\n",
        "\n",
        "X_test_batché = []\n",
        "\n",
        "for i in range(23):\n",
        "    batch_test = [X_test[j] for j in range(i*64,(i+1)*64)]\n",
        "    X_test_batché.append(batch_test)\n",
        "\n",
        "\n",
        "X_test_batché.append([X_test[1474],X_test[1475]])\n",
        "\n",
        "print(f\"nombre de batch de test {len(X_test_batché)}\")\n",
        "\n",
        "y_test_batché = []\n",
        "\n",
        "for i in range(23):\n",
        "    batch_test = [y_test[j] for j in range(i*64,(i+1)*64)]\n",
        "    y_test_batché.append(batch_test)\n",
        "\n",
        "y_test_batché.append([y_test[1474],y_test[1475]])"
      ]
    },
    {
      "cell_type": "markdown",
      "metadata": {
        "id": "AY88xz5r3_Gf"
      },
      "source": [
        "\n",
        "---\n",
        "\n",
        "Ici fonction de test classique, on fait bien attention à mettre la variable model.train sur False et a ne pas faire de back-prop ou de descente de gradient.\n"
      ]
    },
    {
      "cell_type": "code",
      "execution_count": null,
      "metadata": {
        "id": "TmVewEgr3_Gf"
      },
      "outputs": [],
      "source": [
        "def test(model,donnee_test,label_test,metric):\n",
        "    model.train(False)\n",
        "    loss_tot = 0\n",
        "    running_corrects = 0.0 # nombre de prédiction correct\n",
        "    running_loss = 0.0 # loss\n",
        "\n",
        "\n",
        "    for i in range(len(donnee_test)):\n",
        "\n",
        "        input = donnee_test[i]\n",
        "        label = label_test[i]\n",
        "        model.zero_grad()\n",
        "        output = model(input)\n",
        "        label = torch.tensor(label).to(device)\n",
        "\n",
        "\n",
        "        loss = metric(output,label)\n",
        "\n",
        "        preds = (output >= 0.5).type(torch.float32)\n",
        "        preds_argmax = torch.argmax(preds, dim=1)\n",
        "        running_corrects += torch.sum(preds_argmax == label)\n",
        "\n",
        "        running_loss += loss\n",
        "\n",
        "    size = len(X_test)\n",
        "\n",
        "    loss_tot = running_loss / size\n",
        "    acc = running_corrects.item() / size\n",
        "\n",
        "\n",
        "    return loss_tot, acc"
      ]
    },
    {
      "cell_type": "markdown",
      "metadata": {
        "id": "FUiHQMq33_Gf"
      },
      "source": [
        "---\n",
        "\n",
        "Ici j'ai également conservé certaines valeurs de loss et d'accuracy pour les modèles. On observe qu'on se situe plus vers 50% pour la phase de test."
      ]
    },
    {
      "cell_type": "code",
      "execution_count": null,
      "metadata": {
        "id": "HNJGTer13_Gf"
      },
      "outputs": [],
      "source": [
        "\n",
        "torch.cuda.empty_cache()  # Videz le cache CUDA\n",
        "\n",
        "model_a_tester = classificateur_emo_RoBERTa\n",
        "\n",
        "with torch.no_grad():\n",
        "  loss_test, acc_test = test(model= model_a_tester, donnee_test=X_test_batché, label_test=y_test_batché, metric=loss_fn)\n",
        "\n",
        "print(loss_test, acc_test)\n",
        "\n",
        "# pour RoBERTa :\n",
        "\n",
        "# tensor(0.0247, device='cuda:0') 0.4993224932249323\n",
        "# tensor(0.0244, device='cuda:0') 0.5169376693766937\n",
        "# tensor(0.0244, device='cuda:0') 0.5223577235772358\n",
        "# tensor(0.0244, device='cuda:0') 0.521680216802168\n",
        "# tensor(0.0244, device='cuda:0') 0.521680216802168\n",
        "\n",
        "# pour BERT:\n",
        "# tensor(0.0255, device='cuda:0') 0.45121951219512196 au bout de 10 epochs\n",
        "# tensor(0.0243, device='cuda:0') 0.5277777777777778 au bout de 20 epochs\n",
        "# tensor(0.0243, device='cuda:0') 0.5230352303523035 au bout de 30 epochs\n",
        "# tensor(0.0243, device='cuda:0') 0.5271002710027101 au bout de 40 epochs\n"
      ]
    }
  ],
  "metadata": {
    "kernelspec": {
      "display_name": "Python 3",
      "language": "python",
      "name": "python3"
    },
    "language_info": {
      "codemirror_mode": {
        "name": "ipython",
        "version": 3
      },
      "file_extension": ".py",
      "mimetype": "text/x-python",
      "name": "python",
      "nbconvert_exporter": "python",
      "pygments_lexer": "ipython3",
      "version": "3.10.6"
    },
    "colab": {
      "provenance": []
    }
  },
  "nbformat": 4,
  "nbformat_minor": 0
}